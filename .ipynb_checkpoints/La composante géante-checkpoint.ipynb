{
 "cells": [
  {
   "cell_type": "code",
   "execution_count": 1,
   "metadata": {
    "collapsed": true
   },
   "outputs": [],
   "source": [
    "import numpy as np"
   ]
  },
  {
   "cell_type": "code",
   "execution_count": 20,
   "metadata": {},
   "outputs": [],
   "source": [
    "def generaterandom(n, m):\n",
    "    graph = np.zeros((m, 2))\n",
    "    for node in graph:\n",
    "        node[0], node[1] = np.random.randint(0,n), np.random.randint(0,n)\n",
    "    return graph\n",
    "        "
   ]
  },
  {
   "cell_type": "code",
   "execution_count": 31,
   "metadata": {
    "collapsed": true
   },
   "outputs": [],
   "source": [
    "def composantes(n, m, graph):\n",
    "    comp = np.arange(n)\n",
    "    for edge in graph:\n",
    "        x = int(edge[0])\n",
    "        y = int(edge[1])\n",
    "        if (comp[x] != comp[y]):\n",
    "            temp = comp[x]\n",
    "            for vertex in comp:\n",
    "                if comp[vertex] == temp:\n",
    "                    comp[vertex] = comp[y]\n",
    "    return(comp)"
   ]
  },
  {
   "cell_type": "code",
   "execution_count": 77,
   "metadata": {
    "collapsed": true
   },
   "outputs": [],
   "source": [
    "def ecrituretailles(n, m, comp):\n",
    "    composantes = np.ones(n) #tells the number of times each composante (identified by index) shows up\n",
    "    tailles = dict([])\n",
    "    for vertex in comp:\n",
    "        composantes[vertex] += 1\n",
    "    for composante in composantes:\n",
    "        if composante in tailles:\n",
    "            tailles[composante] += 1\n",
    "        else:\n",
    "            tailles[composante] = 1\n",
    "    croissant = list(tailles.keys())\n",
    "    croissant2 = croissant.sort()\n",
    "    print(\"croissant\")\n",
    "    print(croissant2)\n",
    "    return ((x, tailles[x]) for x in croissant)"
   ]
  },
  {
   "cell_type": "code",
   "execution_count": 78,
   "metadata": {},
   "outputs": [
    {
     "name": "stdout",
     "output_type": "stream",
     "text": [
      "[[  52.  288.]\n",
      " [ 487.  441.]\n",
      " [ 430.  288.]\n",
      " ..., \n",
      " [  95.   17.]\n",
      " [  21.  155.]\n",
      " [ 372.  171.]]\n",
      "[  0 114  88 488   4   5 295   2 159 307 481 161  12 427 184 402 402  17\n",
      " 481  19  96 120 345  99 240 481 337 205 232  49  36 374  18  33 478 481\n",
      " 159 262 253  39  36 117 174 328 402 232  81 428 198 346 290 429 288 174\n",
      " 372 427 408 159  58 481 374 100  89 168 330 346 242 475  68 187  70 397\n",
      " 282 111 311 469 452  77 481 302 427 159  25  58 314 352 197  87 348  89\n",
      " 151 200 427 448 348 395 159  43  98 427 427 232 334 331 104 474 348 107\n",
      " 108 481 110 141 355 308 427   0 408 348  90 187 346 348 288 123 124 240\n",
      " 401 481 213 385 130 131 261 133 411 135 499 334 138 120 102 141 425 346\n",
      " 230 145 242 395 475 363 387 151 497 377 452 120 232 493 434 159 240 427\n",
      " 101 200 326 448 120 328  28  65 114 427 233  28 174 480 156 177 200 337\n",
      " 242 181 182 437 337 161 428 348 292 411 452 191 192 120 493 195 109 218\n",
      " 481 357 200 201 297 337  55 337 155 427  57 283 330 211 139 427  58 348\n",
      " 390  26 218 219 114 221  85 100  70  59  80 227 151 138 427 497 232 427\n",
      "  51 235 236  99 238 239 427 427 427 137  55 290 246 111  28 249 481 348\n",
      "  78 346 254 458 328 427 382 205  13 219 348 102 348 230 348 338 354 121\n",
      "  91 271 272   8 261 392 228 277 278 445 280 219 352 346 357  57 286 287\n",
      " 427 109 427 427 481 207 409 295  96 392 240 472 300  65 120  36 448 168\n",
      " 462 337  58 309 387 481  49  65  58 290 351 337 318   2 320  45 443 120\n",
      "  25 159 481 481   5 351 427  58 337 337 334 337 207 481 427   2 314 341\n",
      " 265 155 452 427 346 121 427 452  85 481 352 359 481  28  96 159 358 159\n",
      " 337  88 351 159 296 205  35  78 368 369 101 371 427 373 348 166 262 377\n",
      " 242 241 380 308 427 155  85 481 402  58 102 193 481 397 427 253 394 337\n",
      " 325 337 398 399 325 481 427 182 184 265  65 407 427 348 242 427 155 326\n",
      " 291  36 418 387  70  36  18 117 372 333 424 392 235  70 462 429 288 169\n",
      " 432 346 385 435 442  58 438  99  65 159 462 427 295 352  10 363 111 308\n",
      " 450 451 337 155  55 288 470 127 221 459 460 461 429 207 153  49 466 467\n",
      " 444 427 470 432 472 262 474 219  92 363 481  57 480 481 330 282 308 302\n",
      " 348 441  28 100 295 491 351 159 143  65 257 481   5 346]\n",
      "croissant\n",
      "None\n",
      "<generator object ecrituretailles.<locals>.<genexpr> at 0x108bbd3b8>\n"
     ]
    }
   ],
   "source": [
    "n = 500 #nombre de sommets\n",
    "m = 550 #nombre d'aretes\n",
    "randomGraph = generaterandom(n,m)\n",
    "print(randomGraph)\n",
    "comp = composantes(n,m,randomGraph)\n",
    "print(comp)\n",
    "print(ecrituretailles(n,m,comp))"
   ]
  },
  {
   "cell_type": "code",
   "execution_count": 33,
   "metadata": {},
   "outputs": [
    {
     "name": "stdout",
     "output_type": "stream",
     "text": [
      "6\n"
     ]
    }
   ],
   "source": [
    "a = 5\n",
    "a += 1\n",
    "print(a)"
   ]
  },
  {
   "cell_type": "code",
   "execution_count": null,
   "metadata": {
    "collapsed": true
   },
   "outputs": [],
   "source": []
  }
 ],
 "metadata": {
  "kernelspec": {
   "display_name": "Python 3",
   "language": "python",
   "name": "python3"
  },
  "language_info": {
   "codemirror_mode": {
    "name": "ipython",
    "version": 3
   },
   "file_extension": ".py",
   "mimetype": "text/x-python",
   "name": "python",
   "nbconvert_exporter": "python",
   "pygments_lexer": "ipython3",
   "version": "3.6.1"
  }
 },
 "nbformat": 4,
 "nbformat_minor": 2
}
